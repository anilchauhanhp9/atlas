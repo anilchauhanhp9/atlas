{
 "cells": [
  {
   "cell_type": "code",
   "execution_count": 1,
   "metadata": {},
   "outputs": [],
   "source": [
    "import pandas as pd"
   ]
  },
  {
   "cell_type": "code",
   "execution_count": 4,
   "metadata": {},
   "outputs": [
    {
     "data": {
      "text/html": [
       "<div>\n",
       "<style scoped>\n",
       "    .dataframe tbody tr th:only-of-type {\n",
       "        vertical-align: middle;\n",
       "    }\n",
       "\n",
       "    .dataframe tbody tr th {\n",
       "        vertical-align: top;\n",
       "    }\n",
       "\n",
       "    .dataframe thead th {\n",
       "        text-align: right;\n",
       "    }\n",
       "</style>\n",
       "<table border=\"1\" class=\"dataframe\">\n",
       "  <thead>\n",
       "    <tr style=\"text-align: right;\">\n",
       "      <th></th>\n",
       "      <th>Name</th>\n",
       "      <th>Bin</th>\n",
       "    </tr>\n",
       "    <tr>\n",
       "      <th>Contig</th>\n",
       "      <th></th>\n",
       "      <th></th>\n",
       "    </tr>\n",
       "  </thead>\n",
       "  <tbody>\n",
       "    <tr>\n",
       "      <th>NODE_1_length_426476_cov_20.919868</th>\n",
       "      <td>SRS1992958_0</td>\n",
       "      <td>SRS1992958_vamb_370</td>\n",
       "    </tr>\n",
       "    <tr>\n",
       "      <th>NODE_2_length_382687_cov_21.297419</th>\n",
       "      <td>SRS1992958_1</td>\n",
       "      <td>SRS1992958_vamb_370</td>\n",
       "    </tr>\n",
       "    <tr>\n",
       "      <th>NODE_3_length_335529_cov_199.766027</th>\n",
       "      <td>SRS1992958_2</td>\n",
       "      <td>SRS1992958_vamb_615</td>\n",
       "    </tr>\n",
       "    <tr>\n",
       "      <th>NODE_4_length_313833_cov_39.907030</th>\n",
       "      <td>SRS1992958_3</td>\n",
       "      <td>SRS1992958_vamb_2394</td>\n",
       "    </tr>\n",
       "    <tr>\n",
       "      <th>NODE_5_length_246210_cov_27.986541</th>\n",
       "      <td>SRS1992958_4</td>\n",
       "      <td>SRS1992958_vamb_370</td>\n",
       "    </tr>\n",
       "  </tbody>\n",
       "</table>\n",
       "</div>"
      ],
      "text/plain": [
       "                                             Name                   Bin\n",
       "Contig                                                                 \n",
       "NODE_1_length_426476_cov_20.919868   SRS1992958_0   SRS1992958_vamb_370\n",
       "NODE_2_length_382687_cov_21.297419   SRS1992958_1   SRS1992958_vamb_370\n",
       "NODE_3_length_335529_cov_199.766027  SRS1992958_2   SRS1992958_vamb_615\n",
       "NODE_4_length_313833_cov_39.907030   SRS1992958_3  SRS1992958_vamb_2394\n",
       "NODE_5_length_246210_cov_27.986541   SRS1992958_4   SRS1992958_vamb_370"
      ]
     },
     "execution_count": 4,
     "metadata": {},
     "output_type": "execute_result"
    }
   ],
   "source": [
    "scafold_info= pd.read_csv(\"../DiarrheaExample/SRS1992958/assembly/Scaffold_info.csv\", index_col=0)\n",
    "scafold_info.head()\n"
   ]
  },
  {
   "cell_type": "code",
   "execution_count": 8,
   "metadata": {},
   "outputs": [],
   "source": [
    "# add colors\n",
    "\n",
    "scafold_info[\"Color\"]=scafold_info.Bin.map(dict(zip(['SRS1992958_vamb_370', 'SRS1992958_vamb_615',\n",
    "       'SRS1992958_vamb_2394', 'SRS1992958_vamb_664',\n",
    "       'SRS1992958_vamb_1046', 'SRS1992958_vamb_18', 'SRS1992958_vamb_20'],\n",
    "       ['#e6194b', '#3cb44b', '#ffe119', '#4363d8', '#f58231', '#911eb4', '#46f0f0']))).fillna(\"grey\")"
   ]
  },
  {
   "cell_type": "code",
   "execution_count": 9,
   "metadata": {},
   "outputs": [
    {
     "name": "stderr",
     "output_type": "stream",
     "text": [
      "'head' is not recognized as an internal or external command,\n",
      "operable program or batch file.\n"
     ]
    }
   ],
   "source": []
  },
  {
   "cell_type": "code",
   "execution_count": 25,
   "metadata": {},
   "outputs": [],
   "source": [
    "# map scafflds to nodes\n",
    "scafold=\"undefined\"\n",
    "\n",
    "node_mapping= {}\n",
    "with open(\"../DiarrheaExample/SRS1992958/assembly/scaffolds.paths\") as f:\n",
    "    for line in f:\n",
    "        if line.startswith(\"NODE\"):\n",
    "            scafold=line.strip().strip(\"'\")\n",
    "        else:\n",
    "            nodes=line.strip().strip(\";\").replace(\"+\",\"\").replace(\"-\",\"\").split(\",\")\n",
    "\n",
    "            for n in nodes:\n",
    "                node_mapping[n]=scafold\n",
    "            "
   ]
  },
  {
   "cell_type": "code",
   "execution_count": 30,
   "metadata": {},
   "outputs": [
    {
     "data": {
      "text/html": [
       "<div>\n",
       "<style scoped>\n",
       "    .dataframe tbody tr th:only-of-type {\n",
       "        vertical-align: middle;\n",
       "    }\n",
       "\n",
       "    .dataframe tbody tr th {\n",
       "        vertical-align: top;\n",
       "    }\n",
       "\n",
       "    .dataframe thead th {\n",
       "        text-align: right;\n",
       "    }\n",
       "</style>\n",
       "<table border=\"1\" class=\"dataframe\">\n",
       "  <thead>\n",
       "    <tr style=\"text-align: right;\">\n",
       "      <th></th>\n",
       "      <th>Scaffold</th>\n",
       "      <th>Name</th>\n",
       "      <th>Bin</th>\n",
       "      <th>Color</th>\n",
       "    </tr>\n",
       "  </thead>\n",
       "  <tbody>\n",
       "    <tr>\n",
       "      <th>3986545</th>\n",
       "      <td>NODE_1_length_426476_cov_20.919868</td>\n",
       "      <td>SRS1992958_0</td>\n",
       "      <td>SRS1992958_vamb_370</td>\n",
       "      <td>#e6194b</td>\n",
       "    </tr>\n",
       "    <tr>\n",
       "      <th>4010806</th>\n",
       "      <td>NODE_1_length_426476_cov_20.919868</td>\n",
       "      <td>SRS1992958_0</td>\n",
       "      <td>SRS1992958_vamb_370</td>\n",
       "      <td>#e6194b</td>\n",
       "    </tr>\n",
       "    <tr>\n",
       "      <th>1215177</th>\n",
       "      <td>NODE_43_length_81513_cov_19.764161</td>\n",
       "      <td>SRS1992958_42</td>\n",
       "      <td>SRS1992958_vamb_370</td>\n",
       "      <td>#e6194b</td>\n",
       "    </tr>\n",
       "    <tr>\n",
       "      <th>1215175</th>\n",
       "      <td>NODE_43_length_81513_cov_19.764161</td>\n",
       "      <td>SRS1992958_42</td>\n",
       "      <td>SRS1992958_vamb_370</td>\n",
       "      <td>#e6194b</td>\n",
       "    </tr>\n",
       "    <tr>\n",
       "      <th>3401120</th>\n",
       "      <td>NODE_43_length_81513_cov_19.764161</td>\n",
       "      <td>SRS1992958_42</td>\n",
       "      <td>SRS1992958_vamb_370</td>\n",
       "      <td>#e6194b</td>\n",
       "    </tr>\n",
       "  </tbody>\n",
       "</table>\n",
       "</div>"
      ],
      "text/plain": [
       "                                   Scaffold           Name  \\\n",
       "3986545  NODE_1_length_426476_cov_20.919868   SRS1992958_0   \n",
       "4010806  NODE_1_length_426476_cov_20.919868   SRS1992958_0   \n",
       "1215177  NODE_43_length_81513_cov_19.764161  SRS1992958_42   \n",
       "1215175  NODE_43_length_81513_cov_19.764161  SRS1992958_42   \n",
       "3401120  NODE_43_length_81513_cov_19.764161  SRS1992958_42   \n",
       "\n",
       "                         Bin    Color  \n",
       "3986545  SRS1992958_vamb_370  #e6194b  \n",
       "4010806  SRS1992958_vamb_370  #e6194b  \n",
       "1215177  SRS1992958_vamb_370  #e6194b  \n",
       "1215175  SRS1992958_vamb_370  #e6194b  \n",
       "3401120  SRS1992958_vamb_370  #e6194b  "
      ]
     },
     "execution_count": 30,
     "metadata": {},
     "output_type": "execute_result"
    }
   ],
   "source": [
    "node_info= pd.Series(node_mapping).to_frame()\n",
    "node_info.columns=[\"Scaffold\"]\n",
    "\n",
    "node_info= node_info.join(scafold_info,on=\"Scaffold\")\n",
    "\n",
    "\n",
    "\n",
    "\n",
    "node_info.to_csv(\"../DiarrheaExample/SRS1992958/assembly/Node_info.csv\")\n",
    "                 \n",
    "node_info.head()"
   ]
  },
  {
   "cell_type": "code",
   "execution_count": 32,
   "metadata": {},
   "outputs": [
    {
     "data": {
      "text/html": [
       "<div>\n",
       "<style scoped>\n",
       "    .dataframe tbody tr th:only-of-type {\n",
       "        vertical-align: middle;\n",
       "    }\n",
       "\n",
       "    .dataframe tbody tr th {\n",
       "        vertical-align: top;\n",
       "    }\n",
       "\n",
       "    .dataframe thead th {\n",
       "        text-align: right;\n",
       "    }\n",
       "</style>\n",
       "<table border=\"1\" class=\"dataframe\">\n",
       "  <thead>\n",
       "    <tr style=\"text-align: right;\">\n",
       "      <th></th>\n",
       "      <th>Name</th>\n",
       "      <th>Bin</th>\n",
       "      <th>Color</th>\n",
       "    </tr>\n",
       "    <tr>\n",
       "      <th>Contig</th>\n",
       "      <th></th>\n",
       "      <th></th>\n",
       "      <th></th>\n",
       "    </tr>\n",
       "  </thead>\n",
       "  <tbody>\n",
       "    <tr>\n",
       "      <th>NODE_89_length_46282_cov_7863.197006</th>\n",
       "      <td>SRS1992958_88</td>\n",
       "      <td>SRS1992958_vamb_370</td>\n",
       "      <td>#e6194b</td>\n",
       "    </tr>\n",
       "  </tbody>\n",
       "</table>\n",
       "</div>"
      ],
      "text/plain": [
       "                                               Name                  Bin  \\\n",
       "Contig                                                                     \n",
       "NODE_89_length_46282_cov_7863.197006  SRS1992958_88  SRS1992958_vamb_370   \n",
       "\n",
       "                                        Color  \n",
       "Contig                                         \n",
       "NODE_89_length_46282_cov_7863.197006  #e6194b  "
      ]
     },
     "execution_count": 32,
     "metadata": {},
     "output_type": "execute_result"
    }
   ],
   "source": [
    "scafold_info.query(\"Name=='SRS1992958_88'\").head()"
   ]
  },
  {
   "cell_type": "code",
   "execution_count": 36,
   "metadata": {},
   "outputs": [
    {
     "data": {
      "text/plain": [
       "'9018,163172,1807187,28529,180558,3943513,2466253,353108,1202416,21725,179942,11776,847730,30787,21273,70822,25947,820400,3896479,786810,32149,1287056,27013,31399,23653,28835,19677,4010918,2306881,2254633,2452143,22915,30459,27457,17852,531500,9956,576045,2496227,3574768,2970549,5015,70538,37610,92807,23013,23527,124358,41216,18465,5666,3891416,23195,3497998,3970398,3928720,113969,33285,4000289,21013,3461820,30983,3252,1361797,3250,716456,8251,8253,32683,29767,30855,4025437,13047,3066888,780610,3951965,1291315,27005,17153,5047,31071,22065,3727295,2394033,3699595,68596,3640337,4019395,3992120,2242411,13203,4010368,7522,30233,20425,1070,2435574,2448919,2448921,19773,28083,19131,31053,3987795,3704986,1742854,11746,5201,14801,22809,1729805,1152449,33277,14239,1281900,16583,3772080,1285160,3996615,32013,17137,3874787,5730,19371,4000749,182474,182472,3947941,70880,181202,181196,2937235,3990511,67100,22173,2932228,2511150,23831,3922843,12361,3984809,179534,13691,179556,1288619,8842,3984811,4020819,28577,8844,181388,17161,181386,23589,4016747,55949,3990359,30661,70354,19134,32659,3402159,19785,3999602,30645,7082,3980083,29283,25809,22083,29969,31679,3879264,1290053,158416,158410,32625,3979844,29747,16769,28007,3355867,3956047,181576,181574,181578,3978088,2788,59147,23873,3950275,13093,15597,3973264,3680672,46133,915371,6081,32543,17541,1284110,1874811,2662859,119575,21537,11861,23695,3985721,23697,2624622,160943,67818,67820,19199,25397,2270,6262,23191,169260,169254,22029,67186,67192,33329,1668,18937,31825,2171921,3546367,14799,1288625,20185,3536477,13143,3689154,13041,22683,580999,33265,20565,31659,4932,14291,20583,86184,15917,3210385,12989,2834,575,11328,20715,3162007,29219,4009424,1293541,183863,840295,10844,3462058,30133,32285,32247,19499,32317,20977,70494,12833,3961032,68208,68206,107764,346233,32767,29101,3448148,517626,21177,179682,1249,23587,1957069,2294381,18847'"
      ]
     },
     "execution_count": 36,
     "metadata": {},
     "output_type": "execute_result"
    }
   ],
   "source": [
    "\",\".join(node_info.query(\"Bin=='SRS1992958_vamb_615'\").index)"
   ]
  },
  {
   "attachments": {},
   "cell_type": "markdown",
   "metadata": {},
   "source": [
    "Workflow with\n",
    "\n",
    "\n",
    "Install Bandage https://rrwick.github.io/Bandage/\n",
    "\n",
    "Bandage is a GUI software to visualize assembly graphs. \n",
    "\n",
    "\n",
    "Load the graph in `SRS1992958/assembly/`\n",
    "\n",
    "Click on draw graph.\n",
    "Color nodes by depth.\n",
    "\n",
    "\n",
    "Do you see some exeptional nodes?\n",
    "\n",
    "Answer: Circular nodes.\n",
    "\n",
    "Click on them, and chack the coverage information. \n",
    "\n",
    "\n",
    "\n",
    "I prepared a mapping file from graph nodes to contigs to the binds.\n",
    "Import node info\n",
    "\n",
    "Click on open CSV and choose the file `SRS1992958/assembly/Node_info.csv`\n",
    "\n",
    "\n",
    "The coloring should change according to the bins. \n",
    "\n",
    "Deactivate any node labeling (There are too many labels).\n",
    "\n",
    "\n",
    "Does the colorig make sense? \n",
    "What about the purple nodes?\n",
    "What are the colors of the circular nodes?\n",
    "\n",
    "\n",
    "What is the Contig name of the most abundant circular node?\n",
    "\n",
    "Answer: SRS1992958_88\n",
    "\n",
    "\n",
    "Let's see what it is?\n",
    "\n",
    "`filterbyname.sh in=\"SRS1992958_contigs.fasta\" names=SRS1992958_88 out=SRS1992958_88.fasta ow include`\n",
    "\n",
    "This creates a fasta file with only this node. \n",
    "\n",
    "`sendsketch.sh in=\"SRS1992958_88.fasta\"`\n",
    "\n",
    "Check also the annotation of the corresponding bin with sendsketch.\n",
    "\n",
    "\n",
    "\n",
    "Move all the contigs belongint to a bin:\n",
    "\n",
    "\n",
    "9018,163172,1807187,28529,180558,3943513,2466253,353108,1202416,21725,179942,11776,847730,30787,21273,70822,25947,820400,3896479,786810,32149,1287056,27013,31399,23653,28835,19677,4010918,2306881,2254633,2452143,22915,30459,27457,17852,531500,9956,576045,2496227,3574768,2970549,5015,70538,37610,92807,23013,23527,124358,41216,18465,5666,3891416,23195,3497998,3970398,3928720,113969,33285,4000289,21013,3461820,30983,3252,1361797,3250,716456,8251,8253,32683,29767,30855,4025437,13047,3066888,780610,3951965,1291315,27005,17153,5047,31071,22065,3727295,2394033,3699595,68596,3640337,4019395,3992120,2242411,13203,4010368,7522,30233,20425,1070,2435574,2448919,2448921,19773,28083,19131,31053,3987795,3704986,1742854,11746,5201,14801,22809,1729805,1152449,33277,14239,1281900,16583,3772080,1285160,3996615,32013,17137,3874787,5730,19371,4000749,182474,182472,3947941,70880,181202,181196,2937235,3990511,67100,22173,2932228,2511150,23831,3922843,12361,3984809,179534,13691,179556,1288619,8842,3984811,4020819,28577,8844,181388,17161,181386,23589,4016747,55949,3990359,30661,70354,19134,32659,3402159,19785,3999602,30645,7082,3980083,29283,25809,22083,29969,31679,3879264,1290053,158416,158410,32625,3979844,29747,16769,28007,3355867,3956047,181576,181574,181578,3978088,2788,59147,23873,3950275,13093,15597,3973264,3680672,46133,915371,6081,32543,17541,1284110,1874811,2662859,119575,21537,11861,23695,3985721,23697,2624622,160943,67818,67820,19199,25397,2270,6262,23191,169260,169254,22029,67186,67192,33329,1668,18937,31825,2171921,3546367,14799,1288625,20185,3536477,13143,3689154,13041,22683,580999,33265,20565,31659,4932,14291,20583,86184,15917,3210385,12989,2834,575,11328,20715,3162007,29219,4009424,1293541,183863,840295,10844,3462058,30133,32285,32247,19499,32317,20977,70494,12833,3961032,68208,68206,107764,346233,32767,29101,3448148,517626,21177,179682,1249,23587,1957069,2294381,18847\n",
    "\n",
    "\n",
    "\n"
   ]
  },
  {
   "cell_type": "code",
   "execution_count": null,
   "metadata": {},
   "outputs": [],
   "source": [
    "\n",
    "\n",
    "\n"
   ]
  }
 ],
 "metadata": {
  "kernelspec": {
   "display_name": "base",
   "language": "python",
   "name": "python3"
  },
  "language_info": {
   "codemirror_mode": {
    "name": "ipython",
    "version": 3
   },
   "file_extension": ".py",
   "mimetype": "text/x-python",
   "name": "python",
   "nbconvert_exporter": "python",
   "pygments_lexer": "ipython3",
   "version": "3.10.9"
  },
  "orig_nbformat": 4
 },
 "nbformat": 4,
 "nbformat_minor": 2
}
