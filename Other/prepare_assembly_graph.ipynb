{
 "cells": [
  {
   "cell_type": "code",
   "execution_count": 45,
   "metadata": {},
   "outputs": [],
   "source": [
    "import pandas as pd"
   ]
  },
  {
   "cell_type": "raw",
   "metadata": {},
   "source": [
    "node_info= pd.read_csv(\"../DiarrheaExample/SRS1992958/assembly/Node_info.csv\", index_col=0)\n",
    "\n",
    "node_info.head()"
   ]
  },
  {
   "cell_type": "code",
   "execution_count": 46,
   "metadata": {},
   "outputs": [
    {
     "data": {
      "text/html": [
       "<div>\n",
       "<style scoped>\n",
       "    .dataframe tbody tr th:only-of-type {\n",
       "        vertical-align: middle;\n",
       "    }\n",
       "\n",
       "    .dataframe tbody tr th {\n",
       "        vertical-align: top;\n",
       "    }\n",
       "\n",
       "    .dataframe thead th {\n",
       "        text-align: right;\n",
       "    }\n",
       "</style>\n",
       "<table border=\"1\" class=\"dataframe\">\n",
       "  <thead>\n",
       "    <tr style=\"text-align: right;\">\n",
       "      <th></th>\n",
       "      <th>Bin</th>\n",
       "    </tr>\n",
       "    <tr>\n",
       "      <th>0</th>\n",
       "      <th></th>\n",
       "    </tr>\n",
       "  </thead>\n",
       "  <tbody>\n",
       "    <tr>\n",
       "      <th>NODE_1_length_426476_cov_20.919868</th>\n",
       "      <td>SRS1992958_vamb_370</td>\n",
       "    </tr>\n",
       "    <tr>\n",
       "      <th>NODE_2_length_382687_cov_21.297419</th>\n",
       "      <td>SRS1992958_vamb_370</td>\n",
       "    </tr>\n",
       "    <tr>\n",
       "      <th>NODE_3_length_335529_cov_199.766027</th>\n",
       "      <td>SRS1992958_vamb_615</td>\n",
       "    </tr>\n",
       "    <tr>\n",
       "      <th>NODE_4_length_313833_cov_39.907030</th>\n",
       "      <td>SRS1992958_vamb_2394</td>\n",
       "    </tr>\n",
       "    <tr>\n",
       "      <th>NODE_5_length_246210_cov_27.986541</th>\n",
       "      <td>SRS1992958_vamb_370</td>\n",
       "    </tr>\n",
       "  </tbody>\n",
       "</table>\n",
       "</div>"
      ],
      "text/plain": [
       "                                                      Bin\n",
       "0                                                        \n",
       "NODE_1_length_426476_cov_20.919868    SRS1992958_vamb_370\n",
       "NODE_2_length_382687_cov_21.297419    SRS1992958_vamb_370\n",
       "NODE_3_length_335529_cov_199.766027   SRS1992958_vamb_615\n",
       "NODE_4_length_313833_cov_39.907030   SRS1992958_vamb_2394\n",
       "NODE_5_length_246210_cov_27.986541    SRS1992958_vamb_370"
      ]
     },
     "execution_count": 46,
     "metadata": {},
     "output_type": "execute_result"
    }
   ],
   "source": [
    "\n",
    "\n",
    "binning= pd.read_table(\"../DiarrheaExample/SRS1992958/Corrected_bins/binning_no_multiedges.tsv\", index_col=0,header=None)\n",
    "binning.columns= [\"Bin\"]\n",
    "\n",
    "binning.head()"
   ]
  },
  {
   "cell_type": "code",
   "execution_count": 47,
   "metadata": {},
   "outputs": [
    {
     "name": "stdout",
     "output_type": "stream",
     "text": [
      "Found 219 nodes with multiple assignments\n"
     ]
    }
   ],
   "source": [
    "# Find nodes with multiple assingments\n",
    "\n",
    "multiple_assignments= []\n",
    "\n",
    "with open(\"../DiarrheaExample/SRS1992958/Corrected_bins/binning.tsv\") as f:\n",
    "    for line in f:\n",
    "        elements= line.split(\"\\t\")\n",
    "        if len(elements) > 2:\n",
    "            multiple_assignments.append(elements[0])\n",
    "\n",
    "print(f\"Found {len(multiple_assignments)} nodes with multiple assignments\")\n",
    "\n",
    "\n",
    "binning.loc[multiple_assignments,\"Bin\"]= \"multiple\""
   ]
  },
  {
   "cell_type": "code",
   "execution_count": 48,
   "metadata": {},
   "outputs": [],
   "source": [
    "# colors\n",
    "\n",
    "scafold_colors= pd.Series(index=['SRS1992958_vamb_370', 'SRS1992958_vamb_615',\n",
    "       'SRS1992958_vamb_2394', 'SRS1992958_vamb_664',\n",
    "       'SRS1992958_vamb_1046', 'SRS1992958_vamb_18', 'SRS1992958_vamb_20',\"multiple\"],\n",
    "       data=['#e6194b', '#3cb44b', '#ffe119', '#4363d8', '#f58231', '#911eb4', '#46f0f0',\"darkblue\"],\n",
    "       name=\"Color\")\n",
    "#.fillna(\"grey\")"
   ]
  },
  {
   "cell_type": "code",
   "execution_count": 71,
   "metadata": {},
   "outputs": [
    {
     "data": {
      "image/png": "[encoded data removed]",
      "text/plain": [
       "<Figure size 800x100 with 1 Axes>"
      ]
     },
     "metadata": {},
     "output_type": "display_data"
    }
   ],
   "source": [
    "import seaborn as sns\n",
    "import matplotlib.pyplot as plt\n",
    "\n",
    "sns.palplot(scafold_colors)\n",
    "\n",
    "ax=plt.gca()\n",
    "\n",
    "\n",
    "for i, name in enumerate(scafold_colors.index):\n",
    "    ax.text(i, -0.7, name,rotation=90,ha=\"left\",va=\"bottom\")\n",
    "\n",
    "ax.set_axis_off()\n",
    "\n",
    "plt.savefig(\"../Tutorial/images/Graph_legend.png\",dpi=300,bbox_inches=\"tight\")"
   ]
  },
  {
   "cell_type": "code",
   "execution_count": 49,
   "metadata": {},
   "outputs": [],
   "source": [
    "# map nodes to scaffolds\n",
    "scafold=\"undefined\"\n",
    "\n",
    "node_mapping= {}\n",
    "with open(\"../DiarrheaExample/SRS1992958/assembly/scaffolds.paths\") as f:\n",
    "    for line in f:\n",
    "        if line.startswith(\"NODE\"):\n",
    "            scafold=line.strip().strip(\"'\")\n",
    "        else:\n",
    "            nodes=line.strip().strip(\";\").replace(\"+\",\"\").replace(\"-\",\"\").split(\",\")\n",
    "\n",
    "            for n in nodes:\n",
    "                node_mapping[n]=scafold\n",
    "            \n",
    "\n",
    "node_info= pd.Series(node_mapping).to_frame()\n",
    "node_info.columns=[\"Scaffold\"]\n",
    "\n"
   ]
  },
  {
   "cell_type": "code",
   "execution_count": 50,
   "metadata": {},
   "outputs": [],
   "source": [
    "\n",
    "node_info= node_info.join(binning, on=\"Scaffold\").join(scafold_colors,on=\"Bin\").fillna(\"grey\")"
   ]
  },
  {
   "cell_type": "code",
   "execution_count": 42,
   "metadata": {},
   "outputs": [],
   "source": [
    "node_info.to_csv(\"../DiarrheaExample/SRS1992958/Corrected_bins/node_info.csv\")"
   ]
  },
  {
   "cell_type": "code",
   "execution_count": 43,
   "metadata": {},
   "outputs": [
    {
     "data": {
      "text/html": [
       "<div>\n",
       "<style scoped>\n",
       "    .dataframe tbody tr th:only-of-type {\n",
       "        vertical-align: middle;\n",
       "    }\n",
       "\n",
       "    .dataframe tbody tr th {\n",
       "        vertical-align: top;\n",
       "    }\n",
       "\n",
       "    .dataframe thead th {\n",
       "        text-align: right;\n",
       "    }\n",
       "</style>\n",
       "<table border=\"1\" class=\"dataframe\">\n",
       "  <thead>\n",
       "    <tr style=\"text-align: right;\">\n",
       "      <th></th>\n",
       "      <th>Scaffold</th>\n",
       "      <th>Name</th>\n",
       "      <th>Bin</th>\n",
       "      <th>Color</th>\n",
       "    </tr>\n",
       "  </thead>\n",
       "  <tbody>\n",
       "    <tr>\n",
       "      <th>68250</th>\n",
       "      <td>NODE_89_length_46282_cov_7863.197006</td>\n",
       "      <td>SRS1992958_88</td>\n",
       "      <td>SRS1992958_vamb_370</td>\n",
       "      <td>#e6194b</td>\n",
       "    </tr>\n",
       "  </tbody>\n",
       "</table>\n",
       "</div>"
      ],
      "text/plain": [
       "                                   Scaffold           Name  \\\n",
       "68250  NODE_89_length_46282_cov_7863.197006  SRS1992958_88   \n",
       "\n",
       "                       Bin    Color  \n",
       "68250  SRS1992958_vamb_370  #e6194b  "
      ]
     },
     "execution_count": 43,
     "metadata": {},
     "output_type": "execute_result"
    }
   ],
   "source": [
    "scafold_info.query(\"Name=='SRS1992958_88'\").head()"
   ]
  },
  {
   "cell_type": "code",
   "execution_count": 44,
   "metadata": {},
   "outputs": [
    {
     "data": {
      "text/plain": [
       "'9018,163172,1807187,28529,180558,3943513,2466253,353108,1202416,21725,179942,11776,847730,30787,21273,70822,25947,820400,3896479,786810,32149,1287056,27013,31399,23653,28835,19677,4010918,2306881,2254633,2452143,22915,30459,27457,17852,531500,9956,576045,2496227,3574768,2970549,246147,5015,973771,3839918,37610,92807,23013,23527,124358,41216,18465,5666,3891416,23195,3497998,3970398,3928720,113969,33285,4000289,21013,3461820,30983,3252,1361797,3250,8251,8253,32683,29767,3561237,30855,4025437,13047,3066888,780610,3951965,1291315,27005,17153,5047,31071,22065,3727295,2394033,3640337,4019395,3992120,2242411,13203,4010368,7522,30233,20425,1070,2435574,2448919,2448921,19773,28083,19131,31053,3987795,3704986,1742854,3891370,11746,5201,14801,22809,1729805,1152449,33277,14239,1281900,16583,3772080,1285160,3996615,32013,17137,5730,19371,4000749,182474,182472,3947941,70880,181202,181196,2937235,3990511,70694,70688,67100,22173,2932228,2511150,3880720,23831,3922843,58633,12361,3984809,65462,179534,13691,179556,23591,1288619,45356,8842,73520,3984811,4020819,5153,182038,28577,1198587,8844,181388,17161,181386,31679,3879264,1290053,158416,158410,32625,3979844,29747,16769,28007,3973264,2662859,119575,21537,11861,23695,3985721,23697,2624622,160943,67818,67820,19199,25397,2270,6262,23191,169260,169254,22029,67186,67192,33329,70590,1668,1777033,18937,31825,2171921,14799,1288625,20185,3536477,13143,3689154,13041,22683,580999,33265,20565,31659,4932,14291,20583,15917,3210385,12989,2834,880059,575,11328,20715,3162007,29219,4009424,1293541,183863,840295,10844,3961032,68208,68206,107764,346233,32767,29101,3448148,517626,21177,179682,1249,3938851,70708,8076,3358522,58631,65480,65474,65468,65478,12111,13299,149428,63177,5497,115,3843686,1037,31289,2688421,3951441,22993,3898997,3707180,1007689,660954,9350,1390359,28241,2284611,28331'"
      ]
     },
     "execution_count": 44,
     "metadata": {},
     "output_type": "execute_result"
    }
   ],
   "source": [
    "\",\".join(node_info.query(\"Bin=='SRS1992958_vamb_615'\").index)"
   ]
  },
  {
   "attachments": {},
   "cell_type": "markdown",
   "metadata": {},
   "source": [
    "Workflow with\n",
    "\n",
    "\n",
    "Install Bandage https://rrwick.github.io/Bandage/\n",
    "\n",
    "Bandage is a GUI software to visualize assembly graphs. \n",
    "\n",
    "\n",
    "Load the graph in `SRS1992958/assembly/`\n",
    "\n",
    "Click on draw graph.\n",
    "Color nodes by depth.\n",
    "\n",
    "\n",
    "Do you see some exeptional nodes?\n",
    "\n",
    "Answer: Circular nodes.\n",
    "\n",
    "Click on them, and chack the coverage information. \n",
    "\n",
    "\n",
    "\n",
    "I prepared a mapping file from graph nodes to contigs to the binds.\n",
    "Import node info\n",
    "\n",
    "Click on open CSV and choose the file `SRS1992958/assembly/Node_info.csv`\n",
    "\n",
    "\n",
    "The coloring should change according to the bins. \n",
    "\n",
    "Deactivate any node labeling (There are too many labels).\n",
    "\n",
    "\n",
    "Does the colorig make sense? \n",
    "What about the purple nodes?\n",
    "What are the colors of the circular nodes?\n",
    "\n",
    "\n",
    "What is the Contig name of the most abundant circular node?\n",
    "\n",
    "Answer: SRS1992958_88\n",
    "\n",
    "\n",
    "Let's see what it is?\n",
    "\n",
    "`filterbyname.sh in=\"SRS1992958_contigs.fasta\" names=SRS1992958_88 out=SRS1992958_88.fasta ow include`\n",
    "\n",
    "This creates a fasta file with only this node. \n",
    "\n",
    "`sendsketch.sh in=\"SRS1992958_88.fasta\"`\n",
    "\n",
    "Check also the annotation of the corresponding bin with sendsketch.\n",
    "\n",
    "\n",
    "\n",
    "Move all the contigs belongint to a bin:\n",
    "\n",
    "\n",
    "9018,163172,1807187,28529,180558,3943513,2466253,353108,1202416,21725,179942,11776,847730,30787,21273,70822,25947,820400,3896479,786810,32149,1287056,27013,31399,23653,28835,19677,4010918,2306881,2254633,2452143,22915,30459,27457,17852,531500,9956,576045,2496227,3574768,2970549,5015,70538,37610,92807,23013,23527,124358,41216,18465,5666,3891416,23195,3497998,3970398,3928720,113969,33285,4000289,21013,3461820,30983,3252,1361797,3250,716456,8251,8253,32683,29767,30855,4025437,13047,3066888,780610,3951965,1291315,27005,17153,5047,31071,22065,3727295,2394033,3699595,68596,3640337,4019395,3992120,2242411,13203,4010368,7522,30233,20425,1070,2435574,2448919,2448921,19773,28083,19131,31053,3987795,3704986,1742854,11746,5201,14801,22809,1729805,1152449,33277,14239,1281900,16583,3772080,1285160,3996615,32013,17137,3874787,5730,19371,4000749,182474,182472,3947941,70880,181202,181196,2937235,3990511,67100,22173,2932228,2511150,23831,3922843,12361,3984809,179534,13691,179556,1288619,8842,3984811,4020819,28577,8844,181388,17161,181386,23589,4016747,55949,3990359,30661,70354,19134,32659,3402159,19785,3999602,30645,7082,3980083,29283,25809,22083,29969,31679,3879264,1290053,158416,158410,32625,3979844,29747,16769,28007,3355867,3956047,181576,181574,181578,3978088,2788,59147,23873,3950275,13093,15597,3973264,3680672,46133,915371,6081,32543,17541,1284110,1874811,2662859,119575,21537,11861,23695,3985721,23697,2624622,160943,67818,67820,19199,25397,2270,6262,23191,169260,169254,22029,67186,67192,33329,1668,18937,31825,2171921,3546367,14799,1288625,20185,3536477,13143,3689154,13041,22683,580999,33265,20565,31659,4932,14291,20583,86184,15917,3210385,12989,2834,575,11328,20715,3162007,29219,4009424,1293541,183863,840295,10844,3462058,30133,32285,32247,19499,32317,20977,70494,12833,3961032,68208,68206,107764,346233,32767,29101,3448148,517626,21177,179682,1249,23587,1957069,2294381,18847\n",
    "\n",
    "\n",
    "\n"
   ]
  },
  {
   "cell_type": "code",
   "execution_count": null,
   "metadata": {},
   "outputs": [],
   "source": [
    "\n",
    "\n",
    "\n"
   ]
  }
 ],
 "metadata": {
  "kernelspec": {
   "display_name": "base",
   "language": "python",
   "name": "python3"
  },
  "language_info": {
   "codemirror_mode": {
    "name": "ipython",
    "version": 3
   },
   "file_extension": ".py",
   "mimetype": "text/x-python",
   "name": "python",
   "nbconvert_exporter": "python",
   "pygments_lexer": "ipython3",
   "version": "3.10.9"
  },
  "orig_nbformat": 4
 },
 "nbformat": 4,
 "nbformat_minor": 2
}
