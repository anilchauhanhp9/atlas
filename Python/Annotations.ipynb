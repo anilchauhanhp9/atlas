{
 "cells": [
  {
   "cell_type": "markdown",
   "metadata": {},
   "source": [
    "Analyze the output of metagenome-atlas\n",
    "======================================"
   ]
  },
  {
   "cell_type": "code",
   "execution_count": null,
   "metadata": {},
   "outputs": [],
   "source": [
    "# load libraries\n",
    "\n",
    "%matplotlib inline\n",
    "import pandas as pd\n",
    "import numpy as np\n",
    "\n",
    "import matplotlib.pyplot as plt\n",
    "import seaborn as sns\n",
    "import altair as alt\n",
    "\n",
    "#load my scripts\n",
    "from utils.mag_scripts import * \n",
    "from utils.barplots import * \n",
    "\n",
    "import os\n",
    "os.environ['QT_QPA_PLATFORM']='offscreen' # ete3 has some interactive part, but we don't have acces to them here\n",
    "import ete3\n",
    "\n",
    "# supress warnings\n",
    "import warnings\n",
    "warnings.filterwarnings('ignore')"
   ]
  },
  {
   "cell_type": "code",
   "execution_count": null,
   "metadata": {},
   "outputs": [],
   "source": [
    "#go to output file \n",
    "%cd ../Example/"
   ]
  },
  {
   "cell_type": "markdown",
   "metadata": {},
   "source": [
    "# Taxonomy"
   ]
  },
  {
   "cell_type": "code",
   "execution_count": null,
   "metadata": {},
   "outputs": [],
   "source": [
    "Tax= pd.read_table('Results/taxonomy.tsv',index_col=0)\n",
    "Tax.head()"
   ]
  },
  {
   "cell_type": "code",
   "execution_count": null,
   "metadata": {},
   "outputs": [],
   "source": [
    "# create a short label for each species\n",
    "Labels=Tax.ffill(axis=1).species.copy()\n",
    "Labels.loc[Tax.species.isnull()]+= ' '+ Labels.index[Tax.species.isnull()]"
   ]
  },
  {
   "cell_type": "markdown",
   "metadata": {},
   "source": [
    "## Draw tree"
   ]
  },
  {
   "cell_type": "code",
   "execution_count": null,
   "metadata": {},
   "outputs": [],
   "source": [
    "T= ete3.Tree('genomes/tree/gtdbtk.bac120.nwk')"
   ]
  },
  {
   "cell_type": "code",
   "execution_count": null,
   "metadata": {},
   "outputs": [],
   "source": [
    "unique_phyla= Tax.phylum.unique()\n",
    "phyla_colors= dict(zip(unique_phyla, \n",
    "['#bf423f',\n",
    " '#bf973f',\n",
    " '#91bf3f',\n",
    " '#3fbf42',\n",
    " '#3fbf97',\n",
    " '#3f91bf',\n",
    " '#423fbf',\n",
    " '#973fbf',\n",
    " '#bf3f91']))\n",
    "    \n",
    "\n",
    "def layout(node):\n",
    "    node.img_style[\"size\"] = 0\n",
    "    if node.is_leaf():\n",
    "        L= ete3.TextFace(Labels.loc[node.name])\n",
    "        ete3.add_face_to_node(L, node, 0, position=\"branch-right\")        \n",
    "        node.set_style(ete3.NodeStyle(bgcolor= phyla_colors[Tax.loc[node.name,'phylum']]))\n",
    "        \n",
    "\n",
    "\n",
    "ts=ete3.TreeStyle()\n",
    "ts.mode='c'\n",
    "ts.show_leaf_name=False\n",
    "ts.scale = 200\n",
    "\n",
    "for ph in unique_phyla:\n",
    "    ts.title.add_face(ete3.CircleFace(radius=15,color= phyla_colors[ph] ), column=0)\n",
    "    ts.title.add_face(ete3.TextFace(ph, fsize=15), column=1)\n",
    "\n",
    "T.render('%%inline',tree_style=ts,layout=layout)"
   ]
  },
  {
   "cell_type": "markdown",
   "metadata": {},
   "source": [
    "# Genome quality "
   ]
  },
  {
   "cell_type": "code",
   "execution_count": null,
   "metadata": {},
   "outputs": [],
   "source": [
    "genome_quality= pd.read_table('Results/genome_completeness.tsv',index_col=0)\n",
    "\n",
    "genome_quality['Quality_Score']= genome_quality.eval('Completeness -5*Contamination')\n",
    "genome_quality['Lineage']= genome_quality['Marker lineage'].map(lambda s: s.split()[0])\n",
    "\n",
    "genome_quality['Id']= genome_quality.index\n",
    "\n",
    "genome_quality= genome_quality.join(Tax)\n",
    "genome_quality['Name']= Labels"
   ]
  },
  {
   "cell_type": "code",
   "execution_count": null,
   "metadata": {},
   "outputs": [],
   "source": [
    "\n",
    "xscale = alt.Scale(domain=(0, 10))\n",
    "yscale = alt.Scale(domain=(50, 100))\n",
    "\n",
    "alt.Chart(genome_quality).mark_circle(opacity= .6).encode(\n",
    "    alt.X('Contamination', scale=xscale, title='Contamination [%]'),\n",
    "    alt.Y('Completeness', scale=yscale, title='Completeness [%]'),\n",
    "    color='phylum',\n",
    "    tooltip=['Name', 'Id', 'Contamination','Completeness' ]\n",
    ").interactive()"
   ]
  },
  {
   "cell_type": "markdown",
   "metadata": {},
   "source": [
    "# Abundance"
   ]
  },
  {
   "cell_type": "markdown",
   "metadata": {},
   "source": [
    "## Mapping rate"
   ]
  },
  {
   "cell_type": "code",
   "execution_count": null,
   "metadata": {},
   "outputs": [],
   "source": [
    "Counts= pd.read_csv('Results/counts/raw_counts_genomes.tsv',index_col=0,sep='\\t').T\n",
    "Counts.head()"
   ]
  },
  {
   "cell_type": "code",
   "execution_count": null,
   "metadata": {},
   "outputs": [],
   "source": [
    "mapping_rate = pd.read_table('Results/mapping_rate.tsv',index_col=0,squeeze=True)*100\n",
    "f,ax= plt.subplots(figsize=(2,4))\n",
    "ax.set_ylim([0,100])\n",
    "ax.set_xlabel('Samples')\n",
    "sns.swarmplot(y= mapping_rate,ax=ax)\n",
    "\n",
    "ax.set_title('Mapping rate')\n"
   ]
  },
  {
   "cell_type": "markdown",
   "metadata": {},
   "source": [
    "## Relative abundance\n",
    "\n",
    "\n",
    "For the relative abundance we take the coverage over the genome not the raw counts. This inmplicit normalizes for genome size. The coverage is calculated as the median of the coverage values calculated in 1kb blocks."
   ]
  },
  {
   "cell_type": "code",
   "execution_count": null,
   "metadata": {},
   "outputs": [],
   "source": [
    "D = pd.read_table(\"Results/counts/median_coverage_genomes.tsv\",index_col=0)\n",
    "D.head()"
   ]
  },
  {
   "cell_type": "code",
   "execution_count": null,
   "metadata": {},
   "outputs": [],
   "source": [
    "#calculate relative abundance\n",
    "\n",
    "relab = (D.T/D.sum(1)).T"
   ]
  },
  {
   "cell_type": "code",
   "execution_count": null,
   "metadata": {},
   "outputs": [],
   "source": [
    "# get most abundant genomes\n",
    "\n",
    "counts_per_genome= relab.sum().sort_values()\n",
    "ax= counts_per_genome[-10:].plot.bar(figsize=(10,5))\n",
    "\n",
    "_= ax.set_xticklabels(Labels.loc[counts_per_genome.index[-10:]])\n",
    "ax.set_title('Most abundant genomes')\n",
    "ax.set_ylabel('Abundance [%]')"
   ]
  },
  {
   "cell_type": "markdown",
   "metadata": {},
   "source": [
    "### Typical bar chart"
   ]
  },
  {
   "cell_type": "code",
   "execution_count": null,
   "metadata": {},
   "outputs": [],
   "source": [
    "\n",
    "level='family'\n",
    "\n",
    "grouped_data =relab.groupby(Tax[level],axis=1).sum()\n",
    "\n",
    "ax= BarPlot(grouped_data)\n",
    "\n",
    "ax.legend_.set_title(level,{'weight':'bold'})\n"
   ]
  },
  {
   "cell_type": "markdown",
   "metadata": {},
   "source": [
    "# Functional annotation\n",
    "\n",
    "\n",
    "Relative abundance of functional annotations per sample\n",
    "\n",
    "The abundance is calculated as the sum of the relative abundance of all bacteria containing a function."
   ]
  },
  {
   "cell_type": "markdown",
   "metadata": {},
   "source": [
    "## CAZy"
   ]
  },
  {
   "cell_type": "code",
   "execution_count": null,
   "metadata": {},
   "outputs": [],
   "source": [
    "#CAZy\n",
    "CAZy_annotations_genome= pd.read_table('Results/annotations/CAZy.tsv',index_col=0)\n",
    "CAZy_presence= (CAZy_annotations_genome>0).astype(int)\n",
    "CAZy_presence.head()\n",
    "\n",
    "\n",
    "function_relab = relab @ CAZy_presence\n",
    "\n",
    "sns.clustermap(function_relab)\n",
    "\n",
    "function_relab.head()"
   ]
  },
  {
   "cell_type": "markdown",
   "metadata": {},
   "source": [
    "## Kegg orthologs"
   ]
  },
  {
   "cell_type": "code",
   "execution_count": null,
   "metadata": {},
   "outputs": [],
   "source": [
    "#Kegg orthologs\n",
    "\n",
    "Kegg_annotations_genome= pd.read_table('Results/annotations/KO.tsv',index_col=0)\n",
    "Kegg_presence= (Kegg_annotations_genome>0).astype(int)\n",
    "Kegg_presence.head()\n",
    "\n",
    "\n",
    "function_relab = relab @ Kegg_presence\n",
    "\n",
    "sns.clustermap(function_relab)\n",
    "\n",
    "function_relab.head()"
   ]
  },
  {
   "cell_type": "code",
   "execution_count": null,
   "metadata": {},
   "outputs": [],
   "source": []
  }
 ],
 "metadata": {
  "kernelspec": {
   "display_name": "Python 3",
   "language": "python",
   "name": "python3"
  },
  "language_info": {
   "codemirror_mode": {
    "name": "ipython",
    "version": 3
   },
   "file_extension": ".py",
   "mimetype": "text/x-python",
   "name": "python",
   "nbconvert_exporter": "python",
   "pygments_lexer": "ipython3",
   "version": "3.7.7"
  },
  "widgets": {
   "application/vnd.jupyter.widget-state+json": {
    "state": {},
    "version_major": 2,
    "version_minor": 0
   }
  }
 },
 "nbformat": 4,
 "nbformat_minor": 4
}
