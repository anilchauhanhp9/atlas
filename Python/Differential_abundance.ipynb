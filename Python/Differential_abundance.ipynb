{
 "cells": [
  {
   "cell_type": "code",
   "execution_count": null,
   "metadata": {},
   "outputs": [],
   "source": [
    "%matplotlib inline\n",
    "#%config InlineBackend.figure_format = 'retina' # on mac\n",
    "\n",
    "import pandas as pd\n",
    "import numpy as np\n",
    "import matplotlib.pyplot as plt\n",
    "\n",
    "import seaborn as sns\n",
    "\n",
    "from utils.mag_scripts import * \n",
    "from utils.barplots import * \n",
    "\n",
    "\n",
    "import altair as alt\n",
    "\n",
    "\n",
    "# supress warnings\n",
    "import warnings\n",
    "warnings.filterwarnings('ignore')"
   ]
  },
  {
   "cell_type": "markdown",
   "metadata": {},
   "source": [
    "How does high fat diet impact the microbiome of mice?\n",
    "=====================================================\n",
    "\n",
    "![Picture of obese mice](https://upload.wikimedia.org/wikipedia/commons/0/0b/Fatmouse.jpg)"
   ]
  },
  {
   "cell_type": "code",
   "execution_count": null,
   "metadata": {},
   "outputs": [],
   "source": [
    "#go to output folder\n",
    "%cd ../Example/"
   ]
  },
  {
   "cell_type": "code",
   "execution_count": null,
   "metadata": {},
   "outputs": [],
   "source": [
    "# load metadata\n",
    "metadata= pd.read_table('metadata.txt',index_col=0)\n",
    "metadata.head()"
   ]
  },
  {
   "cell_type": "markdown",
   "metadata": {},
   "source": [
    "We confirm that the mice on high fat diet put realy more weight on."
   ]
  },
  {
   "cell_type": "code",
   "execution_count": null,
   "metadata": {},
   "outputs": [],
   "source": [
    "f= plt.figure(figsize=(2,4))\n",
    "sns.swarmplot(y='Body_weight',x='Diet',data=metadata)"
   ]
  },
  {
   "cell_type": "code",
   "execution_count": null,
   "metadata": {},
   "outputs": [],
   "source": [
    "# create a short label for each genome\n",
    "Tax= pd.read_table('Results/taxonomy.tsv',index_col=0)\n",
    "Labels=Tax.ffill(axis=1).species.copy()\n",
    "Labels.loc[Tax.species.isnull()]+= ' '+ Labels.index[Tax.species.isnull()]\n"
   ]
  },
  {
   "cell_type": "markdown",
   "metadata": {},
   "source": [
    "## Relative abundance\n",
    "\n",
    "\n",
    "For the relative abundance we take the coverage over the genome not the raw counts. This inmplicit normalizes for genome size. The coverage is calculated as the median of the coverage values calculated in 1kb blocks."
   ]
  },
  {
   "cell_type": "code",
   "execution_count": null,
   "metadata": {},
   "outputs": [],
   "source": [
    "D = pd.read_table(\"Results/counts/median_coverage_genomes.tsv\",index_col=0)"
   ]
  },
  {
   "cell_type": "code",
   "execution_count": null,
   "metadata": {},
   "outputs": [],
   "source": [
    "#calculate relative abundance\n",
    "\n",
    "relab = (D.T/D.sum(1)).T"
   ]
  },
  {
   "cell_type": "markdown",
   "metadata": {},
   "source": [
    "### Bar chart wich group labels"
   ]
  },
  {
   "cell_type": "code",
   "execution_count": null,
   "metadata": {},
   "outputs": [],
   "source": [
    "\n",
    "level='phylum'\n",
    "\n",
    "\n",
    "\n",
    "grouped_data =  relab.groupby(Tax[level],axis=1).sum()*100\n",
    "filtered_data = filter_taxa( grouped_data,  topN=10)\n",
    "\n",
    "\n",
    "\n",
    "axe=Grouped_Bar_Plot(filtered_data,metadata.Diet,figsize=(11,5),order=['chow','HF'])\n",
    "\n",
    "axe[1].legend_.set_title(level,{'weight':'bold'})\n"
   ]
  },
  {
   "cell_type": "markdown",
   "metadata": {},
   "source": [
    "## Compositional data analysis \n",
    "\n",
    "\n",
    "In order to analyze the microbiome at the species or genome level we use compositional data analyis (CoDa), see more on [Wikipedia](https://en.wikipedia.org/wiki/Compositional_data) and this article:\n",
    "\n",
    ">Gloor, Gregory B., Jean M. Macklaim, Vera Pawlowsky-Glahn, and Juan J. Egozcue. 2017. “Microbiome Datasets Are  Compositional: And This Is Not Optional.” Frontiers in Microbiology 8 (November). Frontiers: 2224. \n",
    "    doi: [10.3389/fmicb.2017.02224](https://www.frontiersin.org/articles/10.3389/fmicb.2017.02224).\n",
    "\n",
    "\n",
    "For this we load the rawcounts and use centric log ratios (clr) after imputing values for the zeros.\n",
    "\n",
    "    \n"
   ]
  },
  {
   "cell_type": "code",
   "execution_count": null,
   "metadata": {},
   "outputs": [],
   "source": [
    "#load raw counts\n",
    "\n",
    "Counts= pd.read_csv('Results/counts/raw_counts_genomes.tsv',index_col=0,sep='\\t').T\n",
    "\n",
    "# transforme counts with centrig log ratio\n",
    "\n",
    "data= clr(Counts)"
   ]
  },
  {
   "cell_type": "markdown",
   "metadata": {},
   "source": [
    "### PCA (PCoA) of the robust aitchison distance"
   ]
  },
  {
   "cell_type": "code",
   "execution_count": null,
   "metadata": {},
   "outputs": [],
   "source": [
    "\n",
    "from sklearn.decomposition import PCA\n",
    "\n",
    "pca= PCA()\n",
    "transformed_data= pca.fit_transform(data)\n"
   ]
  },
  {
   "cell_type": "code",
   "execution_count": null,
   "metadata": {},
   "outputs": [],
   "source": [
    "f= plt.figure(figsize=(4,4))\n",
    "pca_data= pd.DataFrame()\n",
    "pca_data['PC 1']= transformed_data[:,0]\n",
    "pca_data['PC 2']= transformed_data[:,1]\n",
    "pca_data.index= data.index\n",
    "\n",
    "\n",
    "sns.set_palette(['green','orange'])\n",
    "sns.scatterplot(x='PC 1',y='PC 2',data=pca_data,hue=metadata.Diet)\n",
    "\n",
    "\n"
   ]
  },
  {
   "cell_type": "markdown",
   "metadata": {},
   "source": [
    "A PCA allows us to look at the loadings, the species which are mostly responsible for shifting the samples to the right or the left in the plot above."
   ]
  },
  {
   "cell_type": "code",
   "execution_count": null,
   "metadata": {},
   "outputs": [],
   "source": [
    "Loadings_PC1= pd.Series(pca.components_[0], index= Labels.loc[data.columns]+ ' '+data.columns).sort_values(ascending=False)\n",
    "\n",
    "top_loadings = Loadings_PC1.loc[Loadings_PC1.abs()>0.15]\n",
    "top_loadings.plot.barh()\n",
    "\n"
   ]
  },
  {
   "cell_type": "markdown",
   "metadata": {},
   "source": [
    "### Differencial abundance analyis\n",
    "\n",
    "Ass the counts are normalized in centered log ratio the log FC becomes the difference.\n",
    "\n",
    "We use the welch test to asses differncial abundance in the two group. This is a simple version of aldex2. See Gloor et all for more information."
   ]
  },
  {
   "cell_type": "code",
   "execution_count": null,
   "metadata": {},
   "outputs": [],
   "source": [
    "\n",
    "\n",
    "#man abundance per group\n",
    "Stats= data.groupby(metadata.Diet).mean().T\n",
    "Stats['Id']=Stats.index\n",
    "\n",
    "#log Fold change. \n",
    "Stats['logFC']= Stats.HF-Stats.chow \n",
    "\n",
    "# \n",
    "\n",
    "from scipy.stats import ttest_ind\n",
    "\n",
    "_,p= ttest_ind(data.loc[ metadata.query('Diet==\"HF\"').index ],\n",
    "          data.loc[ metadata.query('Diet==\"chow\"').index ],\n",
    "          equal_var=False\n",
    "         )\n",
    "\n",
    "Stats['Pvalue']= p\n",
    "\n",
    "Stats['Pvalue_BH'] = correct_pvalues_for_multiple_testing(p)\n",
    "\n",
    "Stats['logP']= -np.log10(Stats.Pvalue)\n",
    "Stats['Name']= Labels\n"
   ]
  },
  {
   "cell_type": "markdown",
   "metadata": {},
   "source": [
    "#### heatmap of significant Genomes\n",
    "\n"
   ]
  },
  {
   "cell_type": "code",
   "execution_count": null,
   "metadata": {},
   "outputs": [],
   "source": [
    "data.columns.name='Genome'\n",
    "group_color=metadata.Diet.map({'HF':'orange','chow':'green'})\n",
    "\n",
    "sig_data= data.T.loc[Stats.Pvalue_BH<0.1]\n",
    "\n",
    "cmp=sns.clustermap(sig_data,\n",
    "            row_cluster=True,\n",
    "             yticklabels= Labels.loc[sig_data.index],\n",
    "               col_colors= group_color,\n",
    "              );\n",
    "\n",
    "\n",
    "cmp.savefig('../media/heatmap.jpg',dpi=200)"
   ]
  },
  {
   "cell_type": "markdown",
   "metadata": {},
   "source": [
    "#### Vulcano plot"
   ]
  },
  {
   "cell_type": "code",
   "execution_count": null,
   "metadata": {},
   "outputs": [],
   "source": [
    "\n",
    "#non interactive plot\n",
    "#sns.scatterplot(y='logP',x='logFC',data=Stats,hue='logP',palette='Reds')\n",
    "\n",
    "\n",
    "xscale = alt.Scale(type='log')\n",
    "chart=alt.Chart(Stats).mark_circle(opacity= 0.9).encode(\n",
    "    y='logP',\n",
    "    x=alt.X('logFC',title=\"Lean\"+\" \"*30+\"logFC\"+\" \"*30+\"Obese\"),\n",
    "    color=alt.Color('logP',scale=alt.Scale(scheme='reds')),\n",
    "    tooltip=[\"Name\",\n",
    "        alt.Tooltip( \"HF\", type = \"quantitative\",format='.2f'),\n",
    "        alt.Tooltip( \"chow\", type = \"quantitative\",format='.2f'),\n",
    "             'Id'\n",
    "    ]\n",
    ")\n",
    "\n",
    "chart.interactive()\n"
   ]
  },
  {
   "cell_type": "code",
   "execution_count": null,
   "metadata": {},
   "outputs": [],
   "source": [
    "\n",
    "genome_of_interest= 'MAG08'\n",
    "\n",
    "sns.boxplot(y=data[genome_of_interest],x=metadata.Diet)\n",
    "plt.ylabel('Abundance [clr]')\n",
    "Tax.loc[genome_of_interest]"
   ]
  },
  {
   "cell_type": "code",
   "execution_count": null,
   "metadata": {},
   "outputs": [],
   "source": []
  }
 ],
 "metadata": {
  "kernelspec": {
   "display_name": "Python 3",
   "language": "python",
   "name": "python3"
  },
  "language_info": {
   "codemirror_mode": {
    "name": "ipython",
    "version": 3
   },
   "file_extension": ".py",
   "mimetype": "text/x-python",
   "name": "python",
   "nbconvert_exporter": "python",
   "pygments_lexer": "ipython3",
   "version": "3.7.7"
  },
  "widgets": {
   "application/vnd.jupyter.widget-state+json": {
    "state": {},
    "version_major": 2,
    "version_minor": 0
   }
  }
 },
 "nbformat": 4,
 "nbformat_minor": 4
}
