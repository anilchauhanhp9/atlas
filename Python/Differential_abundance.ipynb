{
 "cells": [
  {
   "cell_type": "code",
   "execution_count": null,
   "metadata": {},
   "outputs": [],
   "source": [
    "import os\n",
    "os.environ['QT_QPA_PLATFORM']='offscreen' # ete3 has some interactive part, but we don't have acces to them here\n",
    "\n",
    "# supress warnings\n",
    "import warnings\n",
    "warnings.filterwarnings('ignore')"
   ]
  },
  {
   "cell_type": "code",
   "execution_count": null,
   "metadata": {},
   "outputs": [],
   "source": [
    "# load libraries\n",
    "\n",
    "%matplotlib inline\n",
    "import pandas as pd\n",
    "import numpy as np\n",
    "\n",
    "import matplotlib.pyplot as plt\n",
    "import seaborn as sns\n",
    "import altair as alt\n",
    "\n",
    "#load my scripts\n",
    "from utils.mag_scripts import * \n",
    "from utils.barplots import * \n",
    "\n",
    "import ete3\n",
    "\n"
   ]
  },
  {
   "cell_type": "markdown",
   "metadata": {},
   "source": [
    "How does high-fat diet impact the microbiome of mice?\n",
    "=====================================================\n",
    "\n",
    "![Picture of obese mice](https://upload.wikimedia.org/wikipedia/commons/0/0b/Fatmouse.jpg)"
   ]
  },
  {
   "cell_type": "code",
   "execution_count": null,
   "metadata": {},
   "outputs": [],
   "source": [
    "# Define filepaths\n",
    "\n",
    "atlas_wd_folder = \"../Example/\"\n",
    "\n",
    "taxonomy_file = os.path.join(atlas_wd_folder,\"genomes/taxonomy/gtdb_taxonomy.tsv\")\n",
    "tree_file = os.path.join(atlas_wd_folder,\"genomes/tree/gtdbtk.bac120.nwk\")\n",
    "quality_file= os.path.join(atlas_wd_folder,\"genomes/checkm/completeness.tsv\")\n",
    "counts_file= os.path.join(atlas_wd_folder,\"genomes/counts/raw_counts_genomes.tsv\")\n",
    "abundance_file = os.path.join(atlas_wd_folder,\"genomes/counts/median_coverage_genomes.tsv\")\n",
    "readstats_file= os.path.join(atlas_wd_folder,\"stats/read_counts.tsv\")\n",
    "keggmodules_file = os.path.join(atlas_wd_folder,\"genomes/annotations/dram/kegg_modules.tsv\")\n"
   ]
  },
  {
   "cell_type": "code",
   "execution_count": null,
   "metadata": {},
   "outputs": [],
   "source": [
    "# load metadata\n",
    "metadata= pd.read_table('../Example/metadata.txt',index_col=0)\n",
    "metadata.head()"
   ]
  },
  {
   "cell_type": "markdown",
   "metadata": {},
   "source": [
    "We confirm that the mice on high-fat diet put really more weight on."
   ]
  },
  {
   "cell_type": "code",
   "execution_count": null,
   "metadata": {},
   "outputs": [],
   "source": [
    "f= plt.figure(figsize=(2,4))\n",
    "sns.swarmplot(y='Body_weight',x='Diet',data=metadata,palette= ['green','orange'])"
   ]
  },
  {
   "cell_type": "code",
   "execution_count": null,
   "metadata": {},
   "outputs": [],
   "source": [
    "# Load taxonomy and create a short label for each genome\n",
    "Tax= pd.read_table(taxonomy_file,index_col=0)\n",
    "Labels=Tax.ffill(axis=1).species.copy()\n",
    "Labels.loc[Tax.species.isnull()]+= ' '+ Labels.index[Tax.species.isnull()]\n"
   ]
  },
  {
   "cell_type": "markdown",
   "metadata": {},
   "source": [
    "## Relative abundance\n",
    "\n",
    "\n",
    "For the relative abundance, we take the coverage over the genome, not the raw counts. This implicitly normalizes for genome size. The coverage is calculated as the median of the coverage values calculated in 1kb blocks."
   ]
  },
  {
   "cell_type": "code",
   "execution_count": null,
   "metadata": {},
   "outputs": [],
   "source": [
    "D = pd.read_table(abundance_file,index_col=0)\n",
    "#calculate relative abundance\n",
    "\n",
    "relab = (D.T/D.sum(1)).T"
   ]
  },
  {
   "cell_type": "markdown",
   "metadata": {},
   "source": [
    "### Bar chart wich group labels"
   ]
  },
  {
   "cell_type": "code",
   "execution_count": null,
   "metadata": {},
   "outputs": [],
   "source": [
    "\n",
    "level='phylum'\n",
    "\n",
    "grouped_data =  relab.groupby(Tax[level],axis=1).sum()*100\n",
    "filtered_data = filter_taxa( grouped_data,  topN=10)\n",
    "\n",
    "axe=Grouped_Bar_Plot(filtered_data,metadata.Diet,figsize=(11,5),order=['chow','HF'])\n",
    "\n",
    "axe[1].legend_.set_title(level,{'weight':'bold'})\n"
   ]
  },
  {
   "cell_type": "markdown",
   "metadata": {},
   "source": [
    "## Compositional data analysis \n",
    "\n",
    "\n",
    "In order to analyze the microbiome at the species or genome-level we use compositional data analysis (CoDa), see more on [Wikipedia](https://en.wikipedia.org/wiki/Compositional_data) and this article:\n",
    "\n",
    ">Gloor, Gregory B., Jean M. Macklaim, Vera Pawlowsky-Glahn, and Juan J. Egozcue. 2017. “Microbiome Datasets Are  Compositional: And This Is Not Optional.” Frontiers in Microbiology 8 (November). Frontiers: 2224. \n",
    "    doi: [10.3389/fmicb.2017.02224](https://www.frontiersin.org/articles/10.3389/fmicb.2017.02224).\n",
    "\n",
    "For this, we transform the abundances with the centric log-ratios (CLR) after imputing values for the zeros.\n",
    "\n",
    "    \n"
   ]
  },
  {
   "cell_type": "code",
   "execution_count": null,
   "metadata": {},
   "outputs": [],
   "source": [
    "# transforme counts with centrig log ratio\n",
    "\n",
    "data= clr(relab,log=np.log2)"
   ]
  },
  {
   "cell_type": "markdown",
   "metadata": {},
   "source": [
    "### PCA (PCoA) of the Aitchison distance"
   ]
  },
  {
   "cell_type": "code",
   "execution_count": null,
   "metadata": {},
   "outputs": [],
   "source": [
    "\n",
    "from sklearn.decomposition import PCA\n",
    "\n",
    "pca= PCA()\n",
    "transformed_data= pca.fit_transform(data)\n"
   ]
  },
  {
   "cell_type": "code",
   "execution_count": null,
   "metadata": {},
   "outputs": [],
   "source": [
    "f= plt.figure(figsize=(4,4))\n",
    "pca_data= pd.DataFrame()\n",
    "pca_data['PC 1']= transformed_data[:,0]\n",
    "pca_data['PC 2']= transformed_data[:,1]\n",
    "pca_data.index= data.index\n",
    "\n",
    "\n",
    "sns.set_palette(['green','orange'])\n",
    "sns.scatterplot(x='PC 1',y='PC 2',data=pca_data,hue=metadata.Diet)\n",
    "\n",
    "\n"
   ]
  },
  {
   "cell_type": "markdown",
   "metadata": {},
   "source": [
    "### Differencial abundance analyis\n",
    "\n",
    "Ass the counts are normalized in centered log-ratio the log FC becomes the difference.\n",
    "\n",
    "We use the welch test to assess differential abundance in the two groups. This is a simple version of aldex2. See Gloor et all for more information."
   ]
  },
  {
   "cell_type": "code",
   "execution_count": null,
   "metadata": {},
   "outputs": [],
   "source": [
    "## Calulate statistics\n",
    "\n",
    "#man abundance per group\n",
    "Stats= data.groupby(metadata.Diet).mean().T\n",
    "Stats['Id']=Stats.index\n",
    "\n",
    "#log Fold change. is the simple mean difference\n",
    "Stats['logFC']= Stats.HF-Stats.chow \n",
    "\n",
    "# welch test\n",
    "from scipy.stats import ttest_ind\n",
    "assert not data.loc[metadata.index].isnull().any().any(),\"Found NA values they will interfere with t-test\"\n",
    "_,p= ttest_ind(data.loc[ metadata.query('Diet==\"HF\"').index ],\n",
    "          data.loc[ metadata.query('Diet==\"chow\"').index ],\n",
    "          equal_var=False\n",
    "         )\n",
    "\n",
    "Stats['Pvalue']= p\n",
    "\n",
    "Stats['Pvalue_BH'] = correct_pvalues_for_multiple_testing(p,correction_type=\"Benjamini-Hochberg\")\n",
    "\n",
    "Stats['logP']= -np.log10(Stats.Pvalue)\n",
    "Stats['Name']= Labels\n",
    "\n",
    "\n",
    "Stats.head()"
   ]
  },
  {
   "cell_type": "markdown",
   "metadata": {},
   "source": [
    "#### heatmap of significant Genomes\n",
    "\n"
   ]
  },
  {
   "cell_type": "code",
   "execution_count": null,
   "metadata": {},
   "outputs": [],
   "source": [
    "data.columns.name='Genome'\n",
    "group_color=metadata.Diet.map({'HF':'orange','chow':'green'})\n",
    "\n",
    "sig_data= data.T.loc[Stats.Pvalue_BH<0.1]\n",
    "\n",
    "cmp=sns.clustermap(sig_data, center=0, cmap='RdBu_r',\n",
    "            row_cluster=True,\n",
    "             yticklabels= Labels.loc[sig_data.index],\n",
    "               col_colors= group_color,\n",
    "              );\n",
    "\n"
   ]
  },
  {
   "cell_type": "markdown",
   "metadata": {},
   "source": [
    "#### Vulcano plot"
   ]
  },
  {
   "cell_type": "code",
   "execution_count": null,
   "metadata": {},
   "outputs": [],
   "source": [
    "\n",
    "#non interactive plot\n",
    "#sns.scatterplot(y='logP',x='logFC',data=Stats,hue='logP',palette='Reds')\n",
    "\n",
    "\n",
    "xscale = alt.Scale(type='log')\n",
    "chart=alt.Chart(Stats).mark_circle(opacity= 0.9).encode(\n",
    "    y='logP',\n",
    "    x=alt.X('logFC',title=\"Lean\"+\" \"*30+\"logFC\"+\" \"*30+\"Obese\"),\n",
    "    color=alt.Color('logP',scale=alt.Scale(scheme='reds')),\n",
    "    tooltip=[\"Name\",\n",
    "        alt.Tooltip( \"HF\", type = \"quantitative\",format='.2f'),\n",
    "        alt.Tooltip( \"chow\", type = \"quantitative\",format='.2f'),\n",
    "             'Id'\n",
    "    ]\n",
    ")\n",
    "\n",
    "chart.interactive()\n"
   ]
  },
  {
   "cell_type": "code",
   "execution_count": null,
   "metadata": {},
   "outputs": [],
   "source": [
    "\n",
    "genome_of_interest= 'MAG08'\n",
    "\n",
    "sns.boxplot(y=data[genome_of_interest],x=metadata.Diet)\n",
    "sns.swarmplot(y=data[genome_of_interest],x=metadata.Diet,color='k')\n",
    "plt.ylabel('Abundance [clr]')\n",
    "Tax.loc[genome_of_interest]"
   ]
  },
  {
   "cell_type": "markdown",
   "metadata": {},
   "source": [
    "# Functional Differences"
   ]
  },
  {
   "cell_type": "code",
   "execution_count": null,
   "metadata": {},
   "outputs": [],
   "source": [
    "\n",
    "# load and calculate module completness\n",
    "step_coverage_threshold= 0.8\n",
    "\n",
    "kegg_modules= pd.read_table(keggmodules_file,index_col=[1,2]).drop('Unnamed: 0',axis=1)\n",
    "module_names =kegg_modules.module_name.droplevel(0).drop_duplicates()\n",
    "\n",
    "\n",
    "\n",
    "module_step_coverage_matrix = kegg_modules.step_coverage.unstack(fill_value=0)\n",
    "module_step_coverage_matrix= module_step_coverage_matrix.loc[:, module_step_coverage_matrix.max()>0]\n",
    "# calcualte presence absence based on threshold\n",
    "module_presence_matrix = (module_step_coverage_matrix > step_coverage_threshold) *1\n",
    "#drop all 0 modules\n",
    "module_presence_matrix= module_presence_matrix.loc[:,module_presence_matrix.max()>0]\n",
    "\n",
    "# caluclate module relab as sum of all relative abundance where module is present\n",
    "module_relab = relab @ module_presence_matrix\n",
    "module_relab.index.name='Sample'"
   ]
  },
  {
   "cell_type": "code",
   "execution_count": null,
   "metadata": {},
   "outputs": [],
   "source": [
    "group_colors= metadata.Diet.map({'HF':'orange','chow':'green'}) \n",
    "\n",
    "cgi= sns.clustermap(module_relab, figsize=(10,6),row_colors= group_colors)"
   ]
  },
  {
   "cell_type": "code",
   "execution_count": null,
   "metadata": {},
   "outputs": [],
   "source": [
    "## Calulate statistics\n",
    "\n",
    "#man abundance per group\n",
    "Stats= module_relab.groupby(metadata.Diet).mean().T\n",
    "Stats['Name']= module_names\n",
    "\n",
    "Stats['logFC'] = np.log2(Stats.HF / Stats.chow) \n",
    "\n",
    "# Manwithney\n",
    "from scipy.stats import mannwhitneyu\n",
    "\n",
    "for module in Stats.index:\n",
    "    _,p= mannwhitneyu(module_relab.loc[metadata.query('Diet==\"HF\"').index,module],\n",
    "          module_relab.loc[metadata.query('Diet==\"chow\"').index,module],\n",
    "          alternative='two-sided'\n",
    "         )\n",
    "    Stats.loc[module,'Pvalue']= p\n",
    "\n",
    "Stats['Pvalue_BH'] = correct_pvalues_for_multiple_testing( Stats.Pvalue,correction_type=\"Benjamini-Hochberg\")\n",
    "\n",
    "Stats.query(\"Pvalue_BH<0.05\").sort_values('logFC',ascending=False).head(n=10)\n"
   ]
  },
  {
   "cell_type": "code",
   "execution_count": null,
   "metadata": {},
   "outputs": [],
   "source": [
    "## Show wich species are responsible for the module\n",
    "\n",
    "taxonomic_level='genus'\n",
    "\n",
    "\n",
    "for module_of_interest in ['M00165','M00133']:\n",
    "\n",
    "    genomes_for_module= module_presence_matrix[module_of_interest]==1\n",
    "\n",
    "    average_abundance= relab.loc[:,genomes_for_module].groupby(Tax[taxonomic_level],axis=1).sum()\n",
    "\n",
    "\n",
    "\n",
    "    ax=MeanGroup_Barplot(average_abundance,metadata.Diet,topN=10,order=['chow','HF'],figsize=(3, 5))\n",
    "\n",
    "    ax.set_title(module_names.loc[module_of_interest].split(',')[0],loc='center')\n",
    "    ax.set_ylabel('Relative abundance [%]')\n",
    "    ax.legend_.set_title(taxonomic_level[0].upper()+taxonomic_level[1:])\n",
    "\n"
   ]
  }
 ],
 "metadata": {
  "kernelspec": {
   "display_name": "Python 3 (ipykernel)",
   "language": "python",
   "name": "python3"
  },
  "language_info": {
   "codemirror_mode": {
    "name": "ipython",
    "version": 3
   },
   "file_extension": ".py",
   "mimetype": "text/x-python",
   "name": "python",
   "nbconvert_exporter": "python",
   "pygments_lexer": "ipython3",
   "version": "3.6.13"
  },
  "widgets": {
   "application/vnd.jupyter.widget-state+json": {
    "state": {},
    "version_major": 2,
    "version_minor": 0
   }
  }
 },
 "nbformat": 4,
 "nbformat_minor": 4
}
