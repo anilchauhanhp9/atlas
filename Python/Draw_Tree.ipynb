{
 "cells": [
  {
   "cell_type": "code",
   "execution_count": null,
   "metadata": {},
   "outputs": [],
   "source": [
    "%pylab inline\n",
    "import ete3\n",
    "\n",
    "import pandas as pd"
   ]
  },
  {
   "cell_type": "code",
   "execution_count": null,
   "metadata": {},
   "outputs": [],
   "source": [
    "#go to output file \n",
    "%cd ../Example/"
   ]
  },
  {
   "cell_type": "code",
   "execution_count": null,
   "metadata": {},
   "outputs": [],
   "source": [
    "T= ete3.Tree('genomes/tree/gtdbtk.bac120.nwk')"
   ]
  },
  {
   "cell_type": "code",
   "execution_count": null,
   "metadata": {},
   "outputs": [],
   "source": [
    "# create a short label for each genome\n",
    "Tax= pd.read_table('Results/taxonomy.tsv',index_col=0)\n",
    "Labels=Tax.ffill(axis=1).species.copy()\n",
    "Labels.loc[Tax.species.isnull()]+= ' '+ Labels.index[Tax.species.isnull()]\n"
   ]
  },
  {
   "cell_type": "code",
   "execution_count": null,
   "metadata": {},
   "outputs": [],
   "source": [
    "def layout(node):\n",
    "    \n",
    "    node.img_style[\"size\"] = 0\n",
    "    \n",
    "    if node.is_leaf():\n",
    "\n",
    "        L= ete3.TextFace(Labels.loc[node.name])\n",
    "        ete3.add_face_to_node(L, node, 0, position=\"branch-right\")\n",
    "        \n",
    "\n",
    "\n",
    "ts=ete3.TreeStyle()\n",
    "ts.mode='c'\n",
    "ts.show_leaf_name=False\n",
    "ts.scale = 200\n",
    "T.render('%%inline',tree_style=ts,layout=layout)"
   ]
  }
 ],
 "metadata": {
  "kernelspec": {
   "display_name": "Python 3",
   "language": "python",
   "name": "python3"
  },
  "language_info": {
   "codemirror_mode": {
    "name": "ipython",
    "version": 3
   },
   "file_extension": ".py",
   "mimetype": "text/x-python",
   "name": "python",
   "nbconvert_exporter": "python",
   "pygments_lexer": "ipython3",
   "version": "3.6.7"
  }
 },
 "nbformat": 4,
 "nbformat_minor": 4
}
