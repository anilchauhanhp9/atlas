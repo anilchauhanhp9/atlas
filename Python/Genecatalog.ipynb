{
 "cells": [
  {
   "cell_type": "code",
   "execution_count": 4,
   "metadata": {},
   "outputs": [
    {
     "ename": "ModuleNotFoundError",
     "evalue": "No module named 'h5py'",
     "output_type": "error",
     "traceback": [
      "\u001b[0;31m---------------------------------------------------------------------------\u001b[0m",
      "\u001b[0;31mModuleNotFoundError\u001b[0m                       Traceback (most recent call last)",
      "\u001b[1;32m/Users/silas/Documents/GitHub/Tutorial/Python/Genecatalog.ipynb Cell 1\u001b[0m line \u001b[0;36m6\n\u001b[1;32m      <a href='vscode-notebook-cell:/Users/silas/Documents/GitHub/Tutorial/Python/Genecatalog.ipynb#W0sZmlsZQ%3D%3D?line=3'>4</a>\u001b[0m \u001b[39mimport\u001b[39;00m \u001b[39mseaborn\u001b[39;00m \u001b[39mas\u001b[39;00m \u001b[39msns\u001b[39;00m\n\u001b[1;32m      <a href='vscode-notebook-cell:/Users/silas/Documents/GitHub/Tutorial/Python/Genecatalog.ipynb#W0sZmlsZQ%3D%3D?line=4'>5</a>\u001b[0m \u001b[39mfrom\u001b[39;00m \u001b[39mpathlib\u001b[39;00m \u001b[39mimport\u001b[39;00m Path\n\u001b[0;32m----> <a href='vscode-notebook-cell:/Users/silas/Documents/GitHub/Tutorial/Python/Genecatalog.ipynb#W0sZmlsZQ%3D%3D?line=5'>6</a>\u001b[0m \u001b[39mimport\u001b[39;00m \u001b[39mh5py\u001b[39;00m\n",
      "\u001b[0;31mModuleNotFoundError\u001b[0m: No module named 'h5py'"
     ]
    }
   ],
   "source": [
    "import pandas as pd\n",
    "import numpy as np\n",
    "import matplotlib.pylab as plt\n",
    "import seaborn as sns\n",
    "from pathlib import Path\n",
    "import h5py"
   ]
  },
  {
   "cell_type": "code",
   "execution_count": 3,
   "metadata": {},
   "outputs": [
    {
     "ename": "NameError",
     "evalue": "name 'h5py' is not defined",
     "output_type": "error",
     "traceback": [
      "\u001b[0;31m---------------------------------------------------------------------------\u001b[0m",
      "\u001b[0;31mNameError\u001b[0m                                 Traceback (most recent call last)",
      "\u001b[1;32m/Users/silas/Documents/GitHub/Tutorial/Python/Genecatalog.ipynb Cell 2\u001b[0m line \u001b[0;36m5\n\u001b[1;32m      <a href='vscode-notebook-cell:/Users/silas/Documents/GitHub/Tutorial/Python/Genecatalog.ipynb#W1sZmlsZQ%3D%3D?line=0'>1</a>\u001b[0m atlas_dir\u001b[39m=\u001b[39m Path(\u001b[39m\"\u001b[39m\u001b[39m../DiarrheaExample/\u001b[39m\u001b[39m\"\u001b[39m)\n\u001b[1;32m      <a href='vscode-notebook-cell:/Users/silas/Documents/GitHub/Tutorial/Python/Genecatalog.ipynb#W1sZmlsZQ%3D%3D?line=2'>3</a>\u001b[0m gene_abundance_file\u001b[39m=\u001b[39m atlas_dir\u001b[39m/\u001b[39m\u001b[39m\"\u001b[39m\u001b[39mGenecatalog/counts/median_coverage.h5\u001b[39m\u001b[39m\"\u001b[39m\n\u001b[0;32m----> <a href='vscode-notebook-cell:/Users/silas/Documents/GitHub/Tutorial/Python/Genecatalog.ipynb#W1sZmlsZQ%3D%3D?line=4'>5</a>\u001b[0m \u001b[39mwith\u001b[39;00m h5py\u001b[39m.\u001b[39mFile(gene_abundance_file, \u001b[39m'\u001b[39m\u001b[39mr\u001b[39m\u001b[39m'\u001b[39m) \u001b[39mas\u001b[39;00m hdf_file:\n\u001b[1;32m      <a href='vscode-notebook-cell:/Users/silas/Documents/GitHub/Tutorial/Python/Genecatalog.ipynb#W1sZmlsZQ%3D%3D?line=5'>6</a>\u001b[0m \n\u001b[1;32m      <a href='vscode-notebook-cell:/Users/silas/Documents/GitHub/Tutorial/Python/Genecatalog.ipynb#W1sZmlsZQ%3D%3D?line=6'>7</a>\u001b[0m     \u001b[39m# data_matrix = hdf_file['data'][:]\u001b[39;00m\n\u001b[1;32m      <a href='vscode-notebook-cell:/Users/silas/Documents/GitHub/Tutorial/Python/Genecatalog.ipynb#W1sZmlsZQ%3D%3D?line=7'>8</a>\u001b[0m     sample_names \u001b[39m=\u001b[39m hdf_file[\u001b[39m'\u001b[39m\u001b[39mdata\u001b[39m\u001b[39m'\u001b[39m]\u001b[39m.\u001b[39mattrs[\u001b[39m'\u001b[39m\u001b[39msample_names\u001b[39m\u001b[39m'\u001b[39m]\u001b[39m.\u001b[39mastype(\u001b[39mstr\u001b[39m)\n",
      "\u001b[0;31mNameError\u001b[0m: name 'h5py' is not defined"
     ]
    }
   ],
   "source": [
    "atlas_dir= Path(\"../DiarrheaExample/\")\n",
    "\n",
    "gene_abundance_file= atlas_dir/\"Genecatalog/counts/median_coverage.h5\"\n",
    "\n",
    "with h5py.File(gene_abundance_file, 'r') as hdf_file:\n",
    "\n",
    "    # data_matrix = hdf_file['data'][:]\n",
    "    sample_names = hdf_file['data'].attrs['sample_names'].astype(str)"
   ]
  },
  {
   "cell_type": "code",
   "execution_count": null,
   "metadata": {},
   "outputs": [],
   "source": []
  }
 ],
 "metadata": {
  "kernelspec": {
   "display_name": "base",
   "language": "python",
   "name": "python3"
  },
  "language_info": {
   "codemirror_mode": {
    "name": "ipython",
    "version": 3
   },
   "file_extension": ".py",
   "mimetype": "text/x-python",
   "name": "python",
   "nbconvert_exporter": "python",
   "pygments_lexer": "ipython3",
   "version": "3.11.5"
  },
  "orig_nbformat": 4
 },
 "nbformat": 4,
 "nbformat_minor": 2
}
